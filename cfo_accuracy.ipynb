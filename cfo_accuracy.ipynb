{
 "cells": [
  {
   "cell_type": "code",
   "execution_count": 2,
   "metadata": {
    "tags": []
   },
   "outputs": [],
   "source": [
    "import matplotlib.pyplot as plt\n",
    "import numpy as np\n",
    "from scipy.signal import stft\n",
    "from numpy.fft import fft, fftfreq, fftshift\n",
    "# from cfo_estimation.blue import cfo_est_blue as blue_estimator\n",
    "from cfo_estimation.blue import unfinished_cfo_est_2 as blue_estimator\n",
    "# from cfo_estimation.blue import cfo_est_aom_r as aom_r_estimator \n",
    "# from cfo_estimation.blue import cfo_est_aom_nr as aom_nr_estimator \n",
    "# from cfo_estimation.blue import cfo_est_moa_r as moa_r_estimator \n",
    "# from cfo_estimation.blue import cfo_est_moa_nr as moa_nr_estimator \n",
    "# from cfo_estimation.blue import cfo_est_conventional as conventional_estimator \n",
    "# from cfo_estimation.blue import cfo_est_mle as mle_estimator \n"
   ]
  },
  {
   "cell_type": "code",
   "execution_count": 3,
   "metadata": {
    "tags": []
   },
   "outputs": [],
   "source": [
    "# frequency_offset_test_cases = np.arange(-200000, 200000, 1000)  # Cycles per second\n",
    "frequency_offset_test_cases = np.arange(-200000, 200000, 10000)  # Cycles per second\n",
    "sampling_frequency = 1500000    # Samples per second\n",
    "acceptable_error = 100  # Cycles per second offset"
   ]
  },
  {
   "cell_type": "code",
   "execution_count": 4,
   "metadata": {
    "tags": []
   },
   "outputs": [],
   "source": [
    "# Test Signal Parameters\n",
    "# signal_length_s = 4 # s\n",
    "signal_length_s = 8 # s\n",
    "sampling_freq_hz = 1000000 # Hz\n",
    "center_freq_hz = 172000000 # Hz\n",
    "offset_freq_hz = 5000 # Hz offset from center\n",
    "ping_duration_s = 0.05 # s\n",
    "ping_period_s = 1 # s\n",
    "ping_power_db = -30 # dB\n",
    "noise_power_db = -60 # dB"
   ]
  },
  {
   "cell_type": "code",
   "execution_count": 5,
   "metadata": {
    "tags": []
   },
   "outputs": [],
   "source": [
    "# Hyper parameters (From rct-dsp3/DSP-PING-main/dsp/results, in which the CFO estimation results seem accurate for the only tested CFO value 5000 Hz).\n",
    "\n",
    "# Sampling Frequency (Hz): 1000000\n",
    "# sampling_freq_hz = 1000000 #Hz\n",
    "\n",
    "# Carrier (Central) Frequency (Hz): 172000000\n",
    "# center_freq_hz = 172000000 #Hz \n",
    "\n",
    "# Pilot Block Length (P): 64\n",
    "p = 64\n",
    "\n",
    "# Pilot Block Length (M): 64\n",
    "m = 64\n",
    "\n",
    "# Data Block Length (N): 1024\n",
    "n = 1024\n",
    "\n",
    "# Number of Frames (B): 8\n",
    "b = 8\n",
    "\n",
    "# Number of Frames (B', for Reuse): 9\n",
    "b_dash = 9\n",
    "\n",
    "# Transmission Block Length (Q): 6464\n",
    "q = 6464\n",
    "\n",
    "# Decimation Rate (ψ): 4\n",
    "psi = 4\n",
    "\n",
    "# Backoff Rate (ignored) (D): 4\n",
    "d = 4"
   ]
  },
  {
   "cell_type": "code",
   "execution_count": 6,
   "metadata": {
    "tags": []
   },
   "outputs": [],
   "source": [
    "# m = ping_duration_s * sampling_freq_hz\n",
    "# n = (ping_period_s - ping_duration_s) * sampling_freq_hz\n",
    "# b = n\n",
    "# p = m\n",
    "# q = m+n\n",
    "# b_dash = b+1"
   ]
  },
  {
   "cell_type": "code",
   "execution_count": 7,
   "metadata": {
    "tags": []
   },
   "outputs": [],
   "source": [
    "def generate_test_signal(\n",
    "        signal_length_s: float = 4.0,\n",
    "        sampling_freq_hz: float = 1e6,\n",
    "        offset_freq_hz: float = 5e3,\n",
    "        ping_duration_s: float = 50e-3,\n",
    "        ping_period_s: float = 1.0,\n",
    "        ping_power_db: float = -30.0,\n",
    "        noise_power_db: float = -60.0) -> np.ndarray:\n",
    "    # Computed signal parameters\n",
    "    ping_amplitude = 10 ** (ping_power_db / 20) # FS\n",
    "    ping_time_index = np.arange(0, ping_duration_s, 1/sampling_freq_hz)\n",
    "    offset_freq_rad_p_sample = offset_freq_hz * 2 * np.pi\n",
    "    ping_phase_seq_rad = offset_freq_rad_p_sample * ping_time_index\n",
    "    ping_signal = np.cos(ping_phase_seq_rad) + 1j * np.sin(ping_phase_seq_rad)\n",
    "\n",
    "    noise_snr = 10.0 ** (noise_power_db / 10.0)\n",
    "    noise_length_s = ping_period_s - ping_duration_s\n",
    "    noise_length_samples = int(noise_length_s * sampling_freq_hz)\n",
    "    noise_stddev_amplitude = np.sqrt(noise_snr*2.0)/2.0\n",
    "    ping_wait_signal = np.random.normal(loc=0,\n",
    "                                        scale=noise_stddev_amplitude,\n",
    "                                        size=(noise_length_samples, 2)).view(np.complex128) # Generate noise with calculated power\n",
    "    ping_wait_signal = np.squeeze(ping_wait_signal)\n",
    "    noise_component = np.random.normal(loc=0,\n",
    "                                    scale=noise_stddev_amplitude,\n",
    "                                    size=(len(ping_signal), 2)).view(np.complex128)\n",
    "    noise_component = np.squeeze(noise_component)\n",
    "    ping_signal_noise = ping_amplitude * ping_signal + noise_component # Generate noise with calculated power\n",
    "\n",
    "    signal = np.array([0.00001])\n",
    "    golden_ping_idx = []\n",
    "    for _ in range(int(signal_length_s / ping_period_s)):\n",
    "        signal = np.append(signal, ping_signal_noise)\n",
    "        golden_ping_idx.append(len(signal))\n",
    "        signal = np.append(signal, ping_wait_signal)\n",
    "    signal = np.append(signal, ping_signal_noise)\n",
    "    return signal"
   ]
  },
  {
   "cell_type": "code",
   "execution_count": 8,
   "metadata": {
    "tags": []
   },
   "outputs": [],
   "source": [
    "# signal = generate_test_signal(signal_length_s=signal_length_s,\n",
    "#                               sampling_freq_hz=sampling_freq_hz,\n",
    "#                               offset_freq_hz=offset_freq_hz,\n",
    "#                               ping_duration_s=ping_duration_s,\n",
    "#                               ping_period_s=ping_period_s,\n",
    "#                               ping_power_db=ping_power_db,\n",
    "#                               noise_power_db=noise_power_db)\n",
    "# plt.specgram(signal,\n",
    "#              NFFT=1024,\n",
    "#              Fs=sampling_freq_hz)\n",
    "# plt.grid()\n",
    "# plt.xlabel('Time (s)')\n",
    "# plt.ylabel('Offset (Hz)')"
   ]
  },
  {
   "cell_type": "code",
   "execution_count": 9,
   "metadata": {
    "tags": []
   },
   "outputs": [
    {
     "name": "stdout",
     "output_type": "stream",
     "text": [
      "N=8050010,U=8\n",
      "estimate = -200000.99134198832\n",
      "error = 0.9913419883232564\n",
      "\n",
      "N=8050010,U=8\n",
      "estimate = -189999.30357140384\n",
      "error = 0.6964285961585119\n",
      "\n",
      "N=8050010,U=8\n",
      "estimate = -180002.26280837954\n",
      "error = 2.262808379542548\n",
      "\n",
      "N=8050010,U=8\n",
      "estimate = -169998.55738064667\n",
      "error = 1.4426193533290643\n",
      "\n",
      "N=8050010,U=8\n",
      "estimate = -160002.71282070078\n",
      "error = 2.712820700777229\n",
      "\n",
      "N=8050010,U=8\n",
      "estimate = -149998.60294232273\n",
      "error = 1.3970576772699133\n",
      "\n",
      "N=8050010,U=8\n",
      "estimate = -139998.0505142265\n",
      "error = 1.9494857735116966\n",
      "\n",
      "N=8050010,U=8\n",
      "estimate = -130001.80444500758\n",
      "error = 1.8044450075831264\n",
      "\n",
      "N=8050010,U=8\n",
      "estimate = -119999.17165678654\n",
      "error = 0.8283432134630857\n",
      "\n",
      "N=8050010,U=8\n",
      "estimate = -109999.44294460495\n",
      "error = 0.5570553950528847\n",
      "\n",
      "N=8050010,U=8\n",
      "estimate = -99997.4734065232\n",
      "error = 2.5265934767958242\n",
      "\n",
      "N=8050010,U=8\n",
      "estimate = -89998.31720330344\n",
      "error = 1.6827966965647647\n",
      "\n",
      "N=8050010,U=8\n",
      "estimate = -79999.85000434417\n",
      "error = 0.14999565582547802\n",
      "\n",
      "N=8050010,U=8\n",
      "estimate = -69999.78963160125\n",
      "error = 0.21036839875159785\n",
      "\n",
      "N=8050010,U=8\n",
      "estimate = -60002.49905308961\n",
      "error = 2.4990530896102428\n",
      "\n",
      "N=8050010,U=8\n",
      "estimate = -49995.88806696586\n",
      "error = 4.111933034138929\n",
      "\n",
      "N=8050010,U=8\n",
      "estimate = -39994.82117892942\n",
      "error = 5.178821070578124\n",
      "\n",
      "N=8050010,U=8\n",
      "estimate = -30002.52550296453\n",
      "error = 2.5255029645304603\n",
      "\n",
      "N=8050010,U=8\n",
      "estimate = -19998.47669952386\n",
      "error = 1.5233004761394113\n",
      "\n",
      "N=8050010,U=8\n",
      "estimate = -10001.0453374855\n",
      "error = 1.0453374855005677\n",
      "\n",
      "N=8050010,U=8\n",
      "estimate = -3.2270173208010595\n",
      "error = 3.2270173208010595\n",
      "\n",
      "N=8050010,U=8\n",
      "estimate = 9999.502262718543\n",
      "error = 0.4977372814573755\n",
      "\n",
      "N=8050010,U=8\n",
      "estimate = 20002.239593892493\n",
      "error = 2.2395938924928487\n",
      "\n",
      "N=8050010,U=8\n",
      "estimate = 29999.152558537047\n",
      "error = 0.8474414629527018\n",
      "\n",
      "N=8050010,U=8\n",
      "estimate = 40000.49157904651\n",
      "error = 0.49157904650928685\n",
      "\n",
      "N=8050010,U=8\n",
      "estimate = 49997.25885554549\n",
      "error = 2.741144454506866\n",
      "\n",
      "N=8050010,U=8\n",
      "estimate = 59996.78667000108\n",
      "error = 3.213329998921836\n",
      "\n",
      "N=8050010,U=8\n",
      "estimate = 69995.38600161066\n",
      "error = 4.613998389337212\n",
      "\n",
      "N=8050010,U=8\n",
      "estimate = 79996.69205593131\n",
      "error = 3.307944068685174\n",
      "\n",
      "N=8050010,U=8\n",
      "estimate = 89997.24013767141\n",
      "error = 2.759862328588497\n",
      "\n",
      "N=8050010,U=8\n",
      "estimate = 99998.57838551184\n",
      "error = 1.4216144881647779\n",
      "\n",
      "N=8050010,U=8\n",
      "estimate = 109998.59788052873\n",
      "error = 1.4021194712695433\n",
      "\n",
      "N=8050010,U=8\n",
      "estimate = 119999.31089557176\n",
      "error = 0.6891044282383518\n",
      "\n",
      "N=8050010,U=8\n",
      "estimate = 130000.71845056121\n",
      "error = 0.7184505612094654\n",
      "\n",
      "N=8050010,U=8\n",
      "estimate = 139999.81923845486\n",
      "error = 0.18076154513983056\n",
      "\n",
      "N=8050010,U=8\n",
      "estimate = 149999.93865247353\n",
      "error = 0.061347526469035074\n",
      "\n",
      "N=8050010,U=8\n",
      "estimate = 159998.42571086553\n",
      "error = 1.574289134470746\n",
      "\n",
      "N=8050010,U=8\n",
      "estimate = 170000.09202610442\n",
      "error = 0.09202610442298464\n",
      "\n",
      "N=8050010,U=8\n",
      "estimate = 179996.76357511958\n",
      "error = 3.236424880422419\n",
      "\n",
      "N=8050010,U=8\n",
      "estimate = 189998.31566410954\n",
      "error = 1.6843358904588968\n",
      "\n"
     ]
    }
   ],
   "source": [
    "# errors_blue = [[],[],[],[]]\n",
    "errors_blue = []\n",
    "errors_aom_r=[]\n",
    "errors_aom_nr=[]\n",
    "errors_moa_r=[]\n",
    "errors_moa_nr=[]\n",
    "errors_conventional=[]\n",
    "errors_mle=[]\n",
    "\n",
    "m_arr=[16,32,64,128]\n",
    "# blue est\n",
    "# for i in range(len(m_arr)):\n",
    "for i in range(len(frequency_offset_test_cases)):\n",
    "    test_signal = generate_test_signal(signal_length_s=signal_length_s,\n",
    "                                  sampling_freq_hz=sampling_freq_hz,\n",
    "                                  offset_freq_hz=frequency_offset_test_cases[i],\n",
    "                                  ping_duration_s=ping_duration_s,\n",
    "                                  ping_period_s=ping_period_s,\n",
    "                                  ping_power_db=ping_power_db,\n",
    "                                  noise_power_db=noise_power_db) \n",
    "    blue_cfo_est = blue_estimator(test_signal, f_s=sampling_freq_hz, R=sampling_freq_hz * ping_period_s)\n",
    "    error = abs(blue_cfo_est - frequency_offset_test_cases[i])\n",
    "    errors_blue.append(error)\n",
    "    print(f'estimate = {blue_cfo_est}')\n",
    "    print(f'error = {error}\\n')\n",
    "# other estimators\n",
    "# for i in range(len(frequency_offset_test_cases)):\n",
    "#         aom_r_est = aom_r_estimator(test_signals[i],b_dash=b_dash, b=b, m=m, q=q, psi=psi, p=p)\n",
    "#         aom_nr_est = aom_nr_estimator(test_signals[i],)\n",
    "#         moa_r_est = moa_r_estimator(test_signals[i],)\n",
    "#         moa_nr_est = moa_nr_estimator(test_signals[i],)\n",
    "#         conventional_est = conventional_estimator(test_signals[i],)\n",
    "#         mle_est = mle_estimator(test_signals[i],)\n",
    "        \n",
    "#         errors_aom_r.append(abs(aom_r_est - frequency_offset_test_cases[i]))\n",
    "#         errors_aom_nr.append(abs(aom_nr_est - frequency_offset_test_cases[i]))\n",
    "#         errors_moa_r.append(abs(moa_r_est - frequency_offset_test_cases[i]))\n",
    "#         errors_moa_nr.append(abs(moa_nr_est - frequency_offset_test_cases[i]))\n",
    "#         errors_conventional.append(abs(conventional_est - frequency_offset_test_cases[i]))\n",
    "#         errors_mle.append(abs(mle_est - frequency_offset_test_cases[i]))"
   ]
  },
  {
   "cell_type": "code",
   "execution_count": 10,
   "metadata": {
    "tags": []
   },
   "outputs": [
    {
     "name": "stderr",
     "output_type": "stream",
     "text": [
      "No artists with labels found to put in legend.  Note that artists whose label start with an underscore are ignored when legend() is called with no argument.\n"
     ]
    },
    {
     "data": {
      "text/plain": [
       "Text(0.5, 1.0, 'Estimator performance')"
      ]
     },
     "execution_count": 10,
     "metadata": {},
     "output_type": "execute_result"
    },
    {
     "data": {
      "image/png": "[encoded data removed]",
      "text/plain": [
       "<Figure size 640x480 with 1 Axes>"
      ]
     },
     "metadata": {},
     "output_type": "display_data"
    }
   ],
   "source": [
    "# for i in range(len(m_arr)):\n",
    "    # plt.plot(frequency_offset_test_cases, errors_blue[0], label = f'm={m_arr[i]}')\n",
    "plt.plot(frequency_offset_test_cases, errors_blue)\n",
    "    \n",
    "plt.xlabel('Test Offset (Hz)')\n",
    "plt.ylabel('Estimator Error (Hz)')\n",
    "plt.legend(loc='best')\n",
    "plt.grid()\n",
    "plt.title('Estimator performance')"
   ]
  },
  {
   "cell_type": "code",
   "execution_count": null,
   "metadata": {
    "tags": []
   },
   "outputs": [],
   "source": [
    "# plot for other estimator errors\n",
    "# def plot_cfo_est_errors(estimator_name ,frequency_offset_test_cases, errors):\n",
    "#     plt.plot(frequency_offset_test_cases, errors_blue[0])\n",
    "    \n",
    "#     plt.xlabel('Test Offset (Hz)')\n",
    "#     plt.ylabel('Estimator Error (Hz)')\n",
    "#     plt.title(estimator_name)\n",
    "#     plt.grid()\n",
    "#     plt.title('Estimator performance')\n",
    "# plot_cfo_est_errors(\"aom_r\", frequency_offset_test_cases, errors_aom_r)\n",
    "# plot_cfo_est_errors(\"aom_nr\", frequency_offset_test_cases, errors_aom_nr)\n",
    "# plot_cfo_est_errors(\"moa_r\", frequency_offset_test_cases, errors_moa_r)\n",
    "# plot_cfo_est_errors(\"moa_nr\", frequency_offset_test_cases, errors_moa_nr)\n",
    "# plot_cfo_est_errors(\"conventional\", frequency_offset_test_cases, errors_conventional)\n",
    "# plot_cfo_est_errors(\"mle\", frequency_offset_test_cases, errors_mle)"
   ]
  },
  {
   "cell_type": "code",
   "execution_count": null,
   "metadata": {},
   "outputs": [],
   "source": []
  },
  {
   "cell_type": "code",
   "execution_count": null,
   "metadata": {},
   "outputs": [],
   "source": []
  },
  {
   "cell_type": "code",
   "execution_count": null,
   "metadata": {},
   "outputs": [],
   "source": []
  },
  {
   "cell_type": "code",
   "execution_count": null,
   "metadata": {},
   "outputs": [],
   "source": []
  },
  {
   "cell_type": "code",
   "execution_count": null,
   "metadata": {},
   "outputs": [],
   "source": []
  },
  {
   "cell_type": "code",
   "execution_count": null,
   "metadata": {},
   "outputs": [],
   "source": []
  },
  {
   "cell_type": "code",
   "execution_count": null,
   "metadata": {},
   "outputs": [],
   "source": []
  },
  {
   "cell_type": "code",
   "execution_count": null,
   "metadata": {},
   "outputs": [],
   "source": []
  },
  {
   "cell_type": "code",
   "execution_count": null,
   "metadata": {},
   "outputs": [],
   "source": []
  }
 ],
 "metadata": {
  "kernelspec": {
   "display_name": "Python 3 (ipykernel)",
   "language": "python",
   "name": "python3"
  },
  "language_info": {
   "codemirror_mode": {
    "name": "ipython",
    "version": 3
   },
   "file_extension": ".py",
   "mimetype": "text/x-python",
   "name": "python",
   "nbconvert_exporter": "python",
   "pygments_lexer": "ipython3",
   "version": "3.10.12"
  }
 },
 "nbformat": 4,
 "nbformat_minor": 4
}
